{
  "nbformat": 4,
  "nbformat_minor": 0,
  "metadata": {
    "colab": {
      "name": "LINEbot_test_Japanese.ipynb",
      "provenance": [],
      "collapsed_sections": [],
      "authorship_tag": "ABX9TyNJSqhvJ5apwvwGb1kyUWQr",
      "include_colab_link": true
    },
    "kernelspec": {
      "name": "python3",
      "display_name": "Python 3"
    },
    "language_info": {
      "name": "python"
    }
  },
  "cells": [
    {
      "cell_type": "markdown",
      "metadata": {
        "id": "view-in-github",
        "colab_type": "text"
      },
      "source": [
        "<a href=\"https://colab.research.google.com/github/Moore0917/Mooregit/blob/main/LINEbot_test_Japanese.ipynb\" target=\"_parent\"><img src=\"https://colab.research.google.com/assets/colab-badge.svg\" alt=\"Open In Colab\"/></a>"
      ]
    },
    {
      "cell_type": "markdown",
      "source": [
        "与えられた文章を解析し、単語ごとに分割する関数を実装。"
      ],
      "metadata": {
        "id": "EP23aFhmAcel"
      }
    },
    {
      "cell_type": "code",
      "execution_count": 1,
      "metadata": {
        "colab": {
          "base_uri": "https://localhost:8080/"
        },
        "id": "QckdEE3TJP5p",
        "outputId": "74b7ca5f-d7e9-4e55-a61e-676605ab29dc"
      },
      "outputs": [
        {
          "output_type": "stream",
          "name": "stdout",
          "text": [
            "Looking in indexes: https://pypi.org/simple, https://us-python.pkg.dev/colab-wheels/public/simple/\n",
            "Collecting line-bot-sdk\n",
            "  Downloading line_bot_sdk-2.3.0-py2.py3-none-any.whl (88 kB)\n",
            "\u001b[K     |████████████████████████████████| 88 kB 2.5 MB/s \n",
            "\u001b[?25hRequirement already satisfied: requests>=2.0 in /usr/local/lib/python3.7/dist-packages (from line-bot-sdk) (2.23.0)\n",
            "Requirement already satisfied: future in /usr/local/lib/python3.7/dist-packages (from line-bot-sdk) (0.16.0)\n",
            "Collecting aiohttp>=3.7.4\n",
            "  Downloading aiohttp-3.8.1-cp37-cp37m-manylinux_2_5_x86_64.manylinux1_x86_64.manylinux_2_12_x86_64.manylinux2010_x86_64.whl (1.1 MB)\n",
            "\u001b[K     |████████████████████████████████| 1.1 MB 14.7 MB/s \n",
            "\u001b[?25hCollecting aiosignal>=1.1.2\n",
            "  Downloading aiosignal-1.2.0-py3-none-any.whl (8.2 kB)\n",
            "Collecting multidict<7.0,>=4.5\n",
            "  Downloading multidict-6.0.2-cp37-cp37m-manylinux_2_17_x86_64.manylinux2014_x86_64.whl (94 kB)\n",
            "\u001b[K     |████████████████████████████████| 94 kB 1.8 MB/s \n",
            "\u001b[?25hCollecting yarl<2.0,>=1.0\n",
            "  Downloading yarl-1.7.2-cp37-cp37m-manylinux_2_5_x86_64.manylinux1_x86_64.manylinux_2_12_x86_64.manylinux2010_x86_64.whl (271 kB)\n",
            "\u001b[K     |████████████████████████████████| 271 kB 59.5 MB/s \n",
            "\u001b[?25hCollecting asynctest==0.13.0\n",
            "  Downloading asynctest-0.13.0-py3-none-any.whl (26 kB)\n",
            "Requirement already satisfied: attrs>=17.3.0 in /usr/local/lib/python3.7/dist-packages (from aiohttp>=3.7.4->line-bot-sdk) (21.4.0)\n",
            "Requirement already satisfied: charset-normalizer<3.0,>=2.0 in /usr/local/lib/python3.7/dist-packages (from aiohttp>=3.7.4->line-bot-sdk) (2.0.12)\n",
            "Collecting frozenlist>=1.1.1\n",
            "  Downloading frozenlist-1.3.0-cp37-cp37m-manylinux_2_5_x86_64.manylinux1_x86_64.manylinux_2_17_x86_64.manylinux2014_x86_64.whl (144 kB)\n",
            "\u001b[K     |████████████████████████████████| 144 kB 62.0 MB/s \n",
            "\u001b[?25hCollecting async-timeout<5.0,>=4.0.0a3\n",
            "  Downloading async_timeout-4.0.2-py3-none-any.whl (5.8 kB)\n",
            "Requirement already satisfied: typing-extensions>=3.7.4 in /usr/local/lib/python3.7/dist-packages (from aiohttp>=3.7.4->line-bot-sdk) (4.1.1)\n",
            "Requirement already satisfied: urllib3!=1.25.0,!=1.25.1,<1.26,>=1.21.1 in /usr/local/lib/python3.7/dist-packages (from requests>=2.0->line-bot-sdk) (1.24.3)\n",
            "Requirement already satisfied: certifi>=2017.4.17 in /usr/local/lib/python3.7/dist-packages (from requests>=2.0->line-bot-sdk) (2022.6.15)\n",
            "Requirement already satisfied: idna<3,>=2.5 in /usr/local/lib/python3.7/dist-packages (from requests>=2.0->line-bot-sdk) (2.10)\n",
            "Requirement already satisfied: chardet<4,>=3.0.2 in /usr/local/lib/python3.7/dist-packages (from requests>=2.0->line-bot-sdk) (3.0.4)\n",
            "Installing collected packages: multidict, frozenlist, yarl, asynctest, async-timeout, aiosignal, aiohttp, line-bot-sdk\n",
            "Successfully installed aiohttp-3.8.1 aiosignal-1.2.0 async-timeout-4.0.2 asynctest-0.13.0 frozenlist-1.3.0 line-bot-sdk-2.3.0 multidict-6.0.2 yarl-1.7.2\n"
          ]
        }
      ],
      "source": [
        "!pip install line-bot-sdk\n"
      ]
    },
    {
      "cell_type": "code",
      "source": [
        "!pip install janome"
      ],
      "metadata": {
        "id": "nKHLDaKpJgmh",
        "colab": {
          "base_uri": "https://localhost:8080/"
        },
        "outputId": "22cc2c31-b298-4945-fb45-3480aa2a56e3"
      },
      "execution_count": 2,
      "outputs": [
        {
          "output_type": "stream",
          "name": "stdout",
          "text": [
            "Looking in indexes: https://pypi.org/simple, https://us-python.pkg.dev/colab-wheels/public/simple/\n",
            "Collecting janome\n",
            "  Downloading Janome-0.4.2-py2.py3-none-any.whl (19.7 MB)\n",
            "\u001b[K     |████████████████████████████████| 19.7 MB 7.4 MB/s \n",
            "\u001b[?25hInstalling collected packages: janome\n",
            "Successfully installed janome-0.4.2\n"
          ]
        }
      ]
    },
    {
      "cell_type": "code",
      "source": [
        "info = {\"CHANNEL_ACCESS_TOKEN\":\"w5Vxb5fJa/LwoepjTWWoyKUtMgi2uPrRc/6OyBesomE1p+V1tAy2Y3ZXezIWtuR7SFFVdVPPERj7wu66VezQetY73F7x/IXVx+bbKszi6jxp7CURzMcCDS2VaMVgvqaHltfz1wjZhGONKxzwtc9CbgdB04t89/1O/w1cDnyilFU=\",\n",
        "        \"USER_ID\":\"Ub18a5bb40a140a66cc8a00fc9ccad75b\"}\n",
        "from linebot import LineBotApi\n",
        "from linebot.models import TextSendMessage\n",
        "\n",
        "CHANNEL_ACCESS_TOKEN = info[\"CHANNEL_ACCESS_TOKEN\"]    #チャンネルアクセストークンの値を辞書から引っ張る\n",
        "line_bot_api = LineBotApi(CHANNEL_ACCESS_TOKEN)             #チャンネルアクセストークンのAPIを使用\n",
        "\n"
      ],
      "metadata": {
        "id": "6NcdvkU0KTLX"
      },
      "execution_count": 3,
      "outputs": []
    },
    {
      "cell_type": "code",
      "source": [
        "from janome.tokenizer import Tokenizer #ここで日本語文解析ライブラリを取得\n",
        "def jp(txt_data):\n",
        "    Jlist = []\n",
        "    # 形態素解析用オブジェクトの生成 - 2\n",
        "    text = Tokenizer()\n",
        "    txt =  txt_data\n",
        "    # txtから読み込んだデータを形態素解析 - 4\n",
        "    lines = txt.split(\"\\r\\n\")\n",
        "    for i in lines:\n",
        "        print(i)\n",
        "        Jlist.append(i)\n",
        "        print(\"\\n\")\n",
        "        Jlist.append(\"\\n\")\n",
        "        text_c = text.tokenize(i)\n",
        "        for j in text_c:\n",
        "            print(j)\n",
        "            Jlist.append(j)\n",
        "\n",
        "    print(\"\\n\")\n",
        "    Jlist.append(\"\\n\")\n",
        "    # テキストを一行ごとに処理 - 5\n",
        "    word_dic = {}\n",
        "    lines_1 = txt.split(\"\\r\\n\")\n",
        "    print(lines_1)\n",
        "    Jlist.append(lines_1)\n",
        "    print(\"\\n\")\n",
        "    Jlist.append(\"\\n\")\n",
        "    for line in lines_1:\n",
        "        malist = text.tokenize(line)\n",
        "        for w in malist:\n",
        "            word = w.surface\n",
        "            ps = w.part_of_speech # 品詞 - 6\n",
        "            if ps.find(\"名詞\") < 0: continue # 名詞だけをカウント - 7\n",
        "            if not word in word_dic:\n",
        "                word_dic[word] = 0\n",
        "            word_dic[word] += 1\n",
        "    # よく使われる単語を表示 - 8\n",
        "    keys = sorted(word_dic.items(), key=lambda x:x[1], reverse=True)\n",
        "    for word, cnt in keys[:50]:\n",
        "        print(\"{0}({1}) \".format(word,cnt), end=\"\")\n",
        "        #Jlist.append(\"{0}({1}) \".format(word,cnt), end=\"\")\n",
        "        Jlist.insert(0,'\"')\n",
        "        Jlist.append('\"')\n",
        "    return Jlist"
      ],
      "metadata": {
        "id": "WrobhuPiuu7D"
      },
      "execution_count": 27,
      "outputs": []
    },
    {
      "cell_type": "code",
      "source": [
        "\n",
        "def main(text):\n",
        "    USER_ID  = info[\"USER_ID\"]\n",
        "    text=[str(a) for a in text]\n",
        "    text=\" \".join(text)\n",
        "    messages =  TextSendMessage(text)\n",
        "    line_bot_api.push_message(USER_ID, messages = messages)\n",
        "\n",
        "\n",
        "if __name__ == \"__main__\":\n",
        "    word = \"今日の晩御飯はシャケです。\\n明日はきっといい日になる。\\nまた頑張ろうって思う。\\n明日の大学でプレゼンがある、心配だ。\"\n",
        "    chk = jp(word)\n",
        "    main(chk)\n",
        "    "
      ],
      "metadata": {
        "colab": {
          "base_uri": "https://localhost:8080/"
        },
        "id": "lTs_w0QXuhKY",
        "outputId": "78becad1-9454-4377-bc67-77ecba9ce1b8"
      },
      "execution_count": 31,
      "outputs": [
        {
          "output_type": "stream",
          "name": "stdout",
          "text": [
            "今日の晩御飯はシャケです。\n",
            "明日はきっといい日になる。\n",
            "また頑張ろうって思う。\n",
            "明日の大学でプレゼンがある、心配だ。\n",
            "\n",
            "\n",
            "今日\t名詞,副詞可能,*,*,*,*,今日,キョウ,キョー\n",
            "の\t助詞,連体化,*,*,*,*,の,ノ,ノ\n",
            "晩\t名詞,一般,*,*,*,*,晩,バン,バン\n",
            "御飯\t名詞,一般,*,*,*,*,御飯,ゴハン,ゴハン\n",
            "は\t助詞,係助詞,*,*,*,*,は,ハ,ワ\n",
            "シャケ\t名詞,一般,*,*,*,*,シャケ,シャケ,シャケ\n",
            "です\t助動詞,*,*,*,特殊・デス,基本形,です,デス,デス\n",
            "。\t記号,句点,*,*,*,*,。,。,。\n",
            "\n",
            "\t記号,空白,*,*,*,*,\n",
            ",*,*\n",
            "明日\t名詞,副詞可能,*,*,*,*,明日,アシタ,アシタ\n",
            "は\t助詞,係助詞,*,*,*,*,は,ハ,ワ\n",
            "きっと\t副詞,一般,*,*,*,*,きっと,キット,キット\n",
            "いい\t形容詞,自立,*,*,形容詞・イイ,基本形,いい,イイ,イイ\n",
            "日\t名詞,非自立,副詞可能,*,*,*,日,ヒ,ヒ\n",
            "に\t助詞,格助詞,一般,*,*,*,に,ニ,ニ\n",
            "なる\t動詞,自立,*,*,五段・ラ行,基本形,なる,ナル,ナル\n",
            "。\t記号,句点,*,*,*,*,。,。,。\n",
            "\n",
            "\t記号,空白,*,*,*,*,\n",
            ",*,*\n",
            "また\t接続詞,*,*,*,*,*,また,マタ,マタ\n",
            "頑張ろ\t動詞,自立,*,*,五段・ラ行,未然ウ接続,頑張る,ガンバロ,ガンバロ\n",
            "う\t助動詞,*,*,*,不変化型,基本形,う,ウ,ウ\n",
            "って\t助詞,格助詞,連語,*,*,*,って,ッテ,ッテ\n",
            "思う\t動詞,自立,*,*,五段・ワ行促音便,基本形,思う,オモウ,オモウ\n",
            "。\t記号,句点,*,*,*,*,。,。,。\n",
            "\n",
            "\t記号,空白,*,*,*,*,\n",
            ",*,*\n",
            "明日\t名詞,副詞可能,*,*,*,*,明日,アシタ,アシタ\n",
            "の\t助詞,連体化,*,*,*,*,の,ノ,ノ\n",
            "大学\t名詞,一般,*,*,*,*,大学,ダイガク,ダイガク\n",
            "で\t助詞,格助詞,一般,*,*,*,で,デ,デ\n",
            "プレゼン\t名詞,サ変接続,*,*,*,*,プレゼン,プレゼン,プレゼン\n",
            "が\t助詞,格助詞,一般,*,*,*,が,ガ,ガ\n",
            "ある\t動詞,自立,*,*,五段・ラ行,基本形,ある,アル,アル\n",
            "、\t記号,読点,*,*,*,*,、,、,、\n",
            "心配\t名詞,サ変接続,*,*,*,*,心配,シンパイ,シンパイ\n",
            "だ\t助動詞,*,*,*,特殊・ダ,基本形,だ,ダ,ダ\n",
            "。\t記号,句点,*,*,*,*,。,。,。\n",
            "\n",
            "\n",
            "['今日の晩御飯はシャケです。\\n明日はきっといい日になる。\\nまた頑張ろうって思う。\\n明日の大学でプレゼンがある、心配だ。']\n",
            "\n",
            "\n",
            "明日(2) 今日(1) 晩(1) 御飯(1) シャケ(1) 日(1) 大学(1) プレゼン(1) 心配(1) "
          ]
        }
      ]
    }
  ]
}