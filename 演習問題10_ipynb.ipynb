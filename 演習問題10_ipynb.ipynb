{
  "nbformat": 4,
  "nbformat_minor": 0,
  "metadata": {
    "kernelspec": {
      "display_name": "Python 3",
      "language": "python",
      "name": "python3"
    },
    "language_info": {
      "codemirror_mode": {
        "name": "ipython",
        "version": 3
      },
      "file_extension": ".py",
      "mimetype": "text/x-python",
      "name": "python",
      "nbconvert_exporter": "python",
      "pygments_lexer": "ipython3",
      "version": "3.7.6"
    },
    "colab": {
      "name": "演習問題10.ipynb のコピー",
      "provenance": [],
      "collapsed_sections": [],
      "include_colab_link": true
    }
  },
  "cells": [
    {
      "cell_type": "markdown",
      "metadata": {
        "id": "view-in-github",
        "colab_type": "text"
      },
      "source": [
        "<a href=\"https://colab.research.google.com/github/Moore0917/Mooregit/blob/main/%E6%BC%94%E7%BF%92%E5%95%8F%E9%A1%8C10_ipynb.ipynb\" target=\"_parent\"><img src=\"https://colab.research.google.com/assets/colab-badge.svg\" alt=\"Open In Colab\"/></a>"
      ]
    },
    {
      "cell_type": "markdown",
      "metadata": {
        "id": "Ko6e9B48XzP_"
      },
      "source": [
        "### 演習問題１０．青空文庫から作家を選び、作品目録を作れ。\n",
        "### ただし作品目録は作品名と作品のURLからなる。  \n",
        " \n",
        "### 掲示板にはできた作品目録(.txtファイル）とコードへのリンク（こちらはいつもどおり）をアップすること。"
      ]
    },
    {
      "cell_type": "markdown",
      "metadata": {
        "id": "YWttE-_2YHrV"
      },
      "source": [
        "（ヒント）テキストファイルへの書き出しは下記コード参照。  \n",
        "google colabの場合、ファイルの保存先はカレントディレクトリになる。自分のPCへのダウンロードは左側にあるフォルダのマークをクリックして、該当のファイル名を探しだしてダウンロード。"
      ]
    },
    {
      "cell_type": "code",
      "metadata": {
        "id": "oJRpGWdNnGph"
      },
      "source": [
        "# テキストファイルへの書き出しについて\n",
        "work = [\"りんご\",\"ゴリラ\"]\n",
        "fname = \"work.txt\"\n",
        "with open(fname,\"w\") as f:\n",
        "    f.write(\"このファイルのタイトル\\n\")  # 最初の行にタイトルを書く\n",
        "    for w in work:\n",
        "        f.write(w+\"\\n\")  # 一行ずつ書き出し"
      ],
      "execution_count": null,
      "outputs": []
    },
    {
      "cell_type": "code",
      "metadata": {
        "id": "lhAiAqQ6ysXp",
        "colab": {
          "base_uri": "https://localhost:8080/"
        },
        "outputId": "b0a646ef-4fc6-49e3-c4d7-8102f6c73acc"
      },
      "source": [
        "import requests\n",
        "from bs4 import BeautifulSoup\n",
        "import urllib\n",
        "url = \"https://www.aozora.gr.jp/index_pages/person1579.html#sakuhin_list_1\"\n",
        "res = requests.get(url)\n",
        "res.encoding = res.apparent_encoding  # 文字化け予防\n",
        "#res.text\n",
        "soup = BeautifulSoup(res.content,\"html.parser\")\n",
        "li_list = soup.find_all(\"li\")\n",
        "#li_list\n",
        "temp = []\n",
        "for elm in soup.find_all(\"li\"):\n",
        "    x = elm.find(\"a\")\n",
        "    if x:  # xの中身が空でないならば\n",
        "        temp.append(x)\n",
        "#temp\n",
        "base_url = \"https://www.aozora.gr.jp\"\n",
        "BookList = []\n",
        "for x in temp:\n",
        "    name = x.text  # テキスト部分の取得\n",
        "    href = x[\"href\"]  # href属性の属性値の取得\n",
        "    BookList.append(f\"{name}>{urllib.parse.urljoin(base_url,href)}\")\n",
        "BookList  #リンクが相対リンクになっているのが不満だが、とりあえず。"
      ],
      "execution_count": 4,
      "outputs": [
        {
          "output_type": "execute_result",
          "data": {
            "text/plain": [
              "['愛の詩集>https://www.aozora.gr.jp/cards/001579/card53947.html',\n",
              " '蒼白き巣窟>https://www.aozora.gr.jp/cards/001579/card55329.html',\n",
              " '芥川の原稿>https://www.aozora.gr.jp/cards/001579/card55957.html',\n",
              " 'あじゃり>https://www.aozora.gr.jp/cards/001579/card53169.html',\n",
              " '或る少女の死まで>https://www.aozora.gr.jp/cards/001579/card53011.html',\n",
              " '命>https://www.aozora.gr.jp/cards/001579/card55429.html',\n",
              " '老いたるえびのうた>https://www.aozora.gr.jp/cards/001579/card53495.html',\n",
              " '荻吹く歌>https://www.aozora.gr.jp/cards/001579/card56453.html',\n",
              " 'お小姓児太郎>https://www.aozora.gr.jp/cards/001579/card55136.html',\n",
              " '音楽時計>https://www.aozora.gr.jp/cards/001579/card60539.html',\n",
              " '蛾>https://www.aozora.gr.jp/cards/001579/card53170.html',\n",
              " '懸巣>https://www.aozora.gr.jp/cards/001579/card53511.html',\n",
              " '神のない子>https://www.aozora.gr.jp/cards/001579/card55613.html',\n",
              " '冠松次郎氏におくる詩>https://www.aozora.gr.jp/cards/001579/card59414.html',\n",
              " '汽車で逢つた女>https://www.aozora.gr.jp/cards/001579/card55432.html',\n",
              " '螽蟖の記>https://www.aozora.gr.jp/cards/001579/card54453.html',\n",
              " '京洛日記>https://www.aozora.gr.jp/cards/001579/card55876.html',\n",
              " '幻影の都市>https://www.aozora.gr.jp/cards/001579/card53171.html',\n",
              " '交友録より>https://www.aozora.gr.jp/cards/001579/card54454.html',\n",
              " '香爐を盗む>https://www.aozora.gr.jp/cards/001579/card53172.html',\n",
              " '故郷を辞す>https://www.aozora.gr.jp/cards/001579/card54831.html',\n",
              " '寂しき魚>https://www.aozora.gr.jp/cards/001579/card53184.html',\n",
              " 'ザボンの実る木のもとに>https://www.aozora.gr.jp/cards/001579/card54832.html',\n",
              " '三階の家>https://www.aozora.gr.jp/cards/001579/card53173.html',\n",
              " '舌を噛み切った女>https://www.aozora.gr.jp/cards/001579/card56454.html',\n",
              " 'しゃりこうべ>https://www.aozora.gr.jp/cards/001579/card53174.html',\n",
              " '生涯の垣根>https://www.aozora.gr.jp/cards/001579/card59235.html',\n",
              " '抒情小曲集>https://www.aozora.gr.jp/cards/001579/card53241.html',\n",
              " '末野女>https://www.aozora.gr.jp/cards/001579/card55614.html',\n",
              " '聖三稜玻璃>https://www.aozora.gr.jp/cards/001579/card56560.html',\n",
              " '性に眼覚める頃>https://www.aozora.gr.jp/cards/001579/card53012.html',\n",
              " '聖ぷりずみすとに与う>https://www.aozora.gr.jp/cards/001579/card56559.html',\n",
              " '玉章>https://www.aozora.gr.jp/cards/001579/card56455.html',\n",
              " '巷の子>https://www.aozora.gr.jp/cards/001579/card55615.html',\n",
              " '津の国人>https://www.aozora.gr.jp/cards/001579/card56456.html',\n",
              " '「鶴」と百間先生>https://www.aozora.gr.jp/cards/001579/card55501.html',\n",
              " '鉄の死>https://www.aozora.gr.jp/cards/001579/card53535.html',\n",
              " '天狗>https://www.aozora.gr.jp/cards/001579/card53175.html',\n",
              " '陶古の女人>https://www.aozora.gr.jp/cards/001579/card53499.html',\n",
              " '童子>https://www.aozora.gr.jp/cards/001579/card53176.html',\n",
              " '童話>https://www.aozora.gr.jp/cards/001579/card53177.html',\n",
              " 'とかげ>https://www.aozora.gr.jp/cards/001579/card53536.html',\n",
              " '渚>https://www.aozora.gr.jp/cards/001579/card55616.html',\n",
              " '日本の庭>https://www.aozora.gr.jp/cards/001579/card54867.html',\n",
              " '庭をつくる人>https://www.aozora.gr.jp/cards/001579/card53537.html',\n",
              " '後の日の童子>https://www.aozora.gr.jp/cards/001579/card53178.html',\n",
              " '野に臥す者>https://www.aozora.gr.jp/cards/001579/card56457.html',\n",
              " '俳句は老人文学ではない>https://www.aozora.gr.jp/cards/001579/card53538.html',\n",
              " '花桐>https://www.aozora.gr.jp/cards/001579/card56458.html',\n",
              " 'はるあはれ>https://www.aozora.gr.jp/cards/001579/card55617.html',\n",
              " 'ヒッポドロム>https://www.aozora.gr.jp/cards/001579/card60540.html',\n",
              " '人真似鳥>https://www.aozora.gr.jp/cards/001579/card53512.html',\n",
              " '姫たちばな>https://www.aozora.gr.jp/cards/001579/card56459.html',\n",
              " '笛と太鼓>https://www.aozora.gr.jp/cards/001579/card54455.html',\n",
              " '不思議な国の話>https://www.aozora.gr.jp/cards/001579/card53179.html',\n",
              " '不思議な魚>https://www.aozora.gr.jp/cards/001579/card53180.html',\n",
              " '冬の庭>https://www.aozora.gr.jp/cards/001579/card54456.html',\n",
              " '忘春詩集>https://www.aozora.gr.jp/cards/001579/card55508.html',\n",
              " '星より来れる者>https://www.aozora.gr.jp/cards/001579/card58042.html',\n",
              " '帆の世界>https://www.aozora.gr.jp/cards/001579/card55618.html',\n",
              " 'みずうみ>https://www.aozora.gr.jp/cards/001579/card53181.html',\n",
              " '蜜のあわれ>https://www.aozora.gr.jp/cards/001579/card53503.html',\n",
              " '名園の落水>https://www.aozora.gr.jp/cards/001579/card53513.html',\n",
              " 'めたん子伝>https://www.aozora.gr.jp/cards/001579/card55305.html',\n",
              " 'ゆめの話>https://www.aozora.gr.jp/cards/001579/card53139.html',\n",
              " '幼年時代>https://www.aozora.gr.jp/cards/001579/card53013.html',\n",
              " '洋灯はくらいか明るいか>https://www.aozora.gr.jp/cards/001579/card53514.html',\n",
              " '我が愛する詩人の伝記>https://www.aozora.gr.jp/cards/001579/card55531.html',\n",
              " 'わが愛する詩人の伝記（三）>https://www.aozora.gr.jp/cards/001579/card59887.html',\n",
              " 'われはうたえども\\u3000やぶれかぶれ>https://www.aozora.gr.jp/cards/001579/card53505.html']"
            ]
          },
          "metadata": {},
          "execution_count": 4
        }
      ]
    },
    {
      "cell_type": "code",
      "metadata": {
        "id": "A_oi4H1Cys7L"
      },
      "source": [
        "fname = \"Booklist_TK210439.txt\"\n",
        "with open(fname,\"w\") as f:\n",
        "    f.write(\"BookList 室生 犀星\\n\")  # 最初の行にタイトルを書く\n",
        "    for w in BookList:\n",
        "        f.write(w+\"\\n\")  # 一行ずつ書き出し"
      ],
      "execution_count": 6,
      "outputs": []
    }
  ]
}